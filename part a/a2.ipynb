{
 "cells": [
  {
   "cell_type": "code",
   "execution_count": 1,
   "id": "f60bffd2",
   "metadata": {},
   "outputs": [],
   "source": [
    "# Supervised Learning Algorithms - KNN: Build a KNN model for predicting if a person will have\n",
    "# diabetes or not with a high accuracy score. Perform some appropriate Pre-Processing steps on\n",
    "# the given dataset for better results. Implement the KNN algorithm on your own. Try other\n",
    "# possible processes that can be done to dataset and tuning the model to increase accuracy such\n",
    "# as Increase K value, Normalization and Different Distance Metrics. Perform Feature Ablation\n",
    "# Study. Additional Tries: Weight the features before doing KNN prediction."
   ]
  },
  {
   "cell_type": "code",
   "execution_count": 66,
   "id": "869f6284",
   "metadata": {},
   "outputs": [],
   "source": [
    "# from sklearn.neighbors import KNeighborsClassifier \n",
    "\n",
    "import numpy as np\n",
    "\n",
    "class KNNClassifier:\n",
    "    def __init__(self,n_neighbours=3) -> None:\n",
    "        self.n_neighbours=n_neighbours\n",
    "    \n",
    "    #No preprocessing or calcualtion required in  .fit\n",
    "    def fit(self,X,y):\n",
    "        self.X=X\n",
    "        self.y=y\n",
    "\n",
    "    #to predict on new value\n",
    "    def predict(self, X_test):\n",
    "        predictions = []\n",
    "        for x in X_test:\n",
    "            #Distance between each point from .fit and each new data point\n",
    "            distances = []\n",
    "            for i, x_train in enumerate(self.X):\n",
    "                dist = np.sqrt(np.sum((x - x_train)**2))\n",
    "                distances.append((i, dist))\n",
    "            #Listing only the nearest k neighbours\n",
    "            distances.sort(key=lambda x: x[1])\n",
    "            k_nearest = [self.y[i] for i, _ in distances[:self.n_neighbours]]\n",
    "             # Get the most frequent label among the k nearest neighbors\n",
    "            prediction = max(set(k_nearest), key=k_nearest.count)\n",
    "            predictions.append(prediction)\n",
    "        return predictions\n",
    "    \n",
    "    "
   ]
  },
  {
   "cell_type": "code",
   "execution_count": 67,
   "id": "5ddc1228",
   "metadata": {},
   "outputs": [],
   "source": [
    "from sklearn.datasets import load_iris\n",
    "X,y = load_iris(return_X_y=True)"
   ]
  },
  {
   "cell_type": "code",
   "execution_count": 68,
   "id": "b1c425b1",
   "metadata": {},
   "outputs": [],
   "source": [
    "from sklearn.model_selection import train_test_split\n",
    "X_train,X_test,y_train,y_test = train_test_split(X,y,test_size=0.2)"
   ]
  },
  {
   "cell_type": "code",
   "execution_count": 72,
   "id": "21e8cadb",
   "metadata": {},
   "outputs": [],
   "source": [
    "# Init\n",
    "knn = KNNClassifier(n_neighbours=50)\n",
    "# Fit\n",
    "knn.fit(X_train,y_train)"
   ]
  },
  {
   "cell_type": "code",
   "execution_count": 73,
   "id": "811688ed",
   "metadata": {},
   "outputs": [],
   "source": [
    "# Predict\n",
    "y_pred = knn.predict(X_test)"
   ]
  },
  {
   "cell_type": "code",
   "execution_count": 74,
   "id": "13abfa82",
   "metadata": {},
   "outputs": [
    {
     "name": "stdout",
     "output_type": "stream",
     "text": [
      "[[ 9  0  0]\n",
      " [ 0 11  2]\n",
      " [ 0  1  7]]\n",
      "0.9\n"
     ]
    }
   ],
   "source": [
    "from sklearn.metrics import confusion_matrix , accuracy_score\n",
    "acc = accuracy_score(y_pred,y_test)\n",
    "cm = confusion_matrix(y_pred,y_test)\n",
    "print(cm)\n",
    "print(acc)"
   ]
  },
  {
   "cell_type": "code",
   "execution_count": 75,
   "id": "c2f09eee",
   "metadata": {},
   "outputs": [],
   "source": [
    "k_vals=[]\n",
    "acc_vals=[]\n",
    "for i in range(5,100,5):\n",
    "    knn = KNeighborsClassifier(n_neighbors=i)\n",
    "    knn.fit(X_train,y_train)\n",
    "    y_pred = knn.predict(X_test)\n",
    "    acc = accuracy_score(y_pred,y_test)\n",
    "    k_vals.append(i)\n",
    "    acc_vals.append(acc)"
   ]
  },
  {
   "cell_type": "code",
   "execution_count": 76,
   "id": "36890fba",
   "metadata": {},
   "outputs": [
    {
     "data": {
      "image/png": "[encoded data removed]",
      "text/plain": [
       "<Figure size 640x480 with 1 Axes>"
      ]
     },
     "metadata": {},
     "output_type": "display_data"
    }
   ],
   "source": [
    "import matplotlib.pyplot as plt\n",
    "plt.plot(k_vals,acc_vals,color='orange')\n",
    "plt.show()"
   ]
  },
  {
   "cell_type": "code",
   "execution_count": null,
   "id": "8ad4ca75",
   "metadata": {},
   "outputs": [],
   "source": []
  }
 ],
 "metadata": {
  "kernelspec": {
   "display_name": "Python 3 (ipykernel)",
   "language": "python",
   "name": "python3"
  },
  "language_info": {
   "codemirror_mode": {
    "name": "ipython",
    "version": 3
   },
   "file_extension": ".py",
   "mimetype": "text/x-python",
   "name": "python",
   "nbconvert_exporter": "python",
   "pygments_lexer": "ipython3",
   "version": "3.10.4"
  }
 },
 "nbformat": 4,
 "nbformat_minor": 5
}
