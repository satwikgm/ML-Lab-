{
 "cells": [
  {
   "cell_type": "code",
   "execution_count": 52,
   "id": "3d133fc4",
   "metadata": {},
   "outputs": [],
   "source": [
    "# Model Measurement Analysis: Using any dataset and any classifier, calculate TP, TN, FP and\n",
    "# FN from sklearn library functions. Also calculate different metrics (Accuracy, Precision,\n",
    "# Recall(Sensitivity), F1-Score, MCC, Specificity, Negative Predictive Value) by defining our own\n",
    "# functions. Compare your values with scikit-learn's library functions. Get the result of Confusion\n",
    "# Matrix using sklearn. Using sklearn, plot the ROC & AUC Curves for your test data and random\n",
    "# probabilities. Using sklearn, calculate the AUC of your test data and of random probabilities.\n",
    "# Interpret the results. Write the inference/analysis of each output. Expectation is Supervised\n",
    "# Learning Algorithms. Therefore, use any classifier."
   ]
  },
  {
   "cell_type": "code",
   "execution_count": null,
   "id": "f29e04d6",
   "metadata": {},
   "outputs": [],
   "source": [
    "# We will use titanic dataset and KNNClassifier\n",
    "import pandas as pd\n",
    "df = pd.read_csv('')"
   ]
  }
 ],
 "metadata": {
  "kernelspec": {
   "display_name": "Python 3 (ipykernel)",
   "language": "python",
   "name": "python3"
  },
  "language_info": {
   "codemirror_mode": {
    "name": "ipython",
    "version": 3
   },
   "file_extension": ".py",
   "mimetype": "text/x-python",
   "name": "python",
   "nbconvert_exporter": "python",
   "pygments_lexer": "ipython3",
   "version": "3.10.4"
  }
 },
 "nbformat": 4,
 "nbformat_minor": 5
}
